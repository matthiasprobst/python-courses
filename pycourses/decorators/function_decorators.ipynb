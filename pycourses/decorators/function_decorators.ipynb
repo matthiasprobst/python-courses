{
 "cells": [
  {
   "cell_type": "markdown",
   "metadata": {
    "collapsed": true,
    "pycharm": {
     "name": "#%% md\n"
    }
   },
   "source": [
    "# Decorators around functions"
   ]
  },
  {
   "cell_type": "code",
   "execution_count": 12,
   "outputs": [],
   "source": [
    "import random\n",
    "from typing import Callable"
   ],
   "metadata": {
    "collapsed": false,
    "pycharm": {
     "name": "#%%\n"
    }
   }
  },
  {
   "cell_type": "markdown",
   "source": [
    "## Decorator for a function that takes *no* input parameters"
   ],
   "metadata": {
    "collapsed": false,
    "pycharm": {
     "name": "#%% md\n"
    }
   }
  },
  {
   "cell_type": "code",
   "execution_count": 13,
   "outputs": [],
   "source": [
    "def add_comment(func: Callable):\n",
    "    \"\"\"Decorator function\"\"\"\n",
    "\n",
    "    def wrapper():\n",
    "        \"\"\"wrapper around 'func'\"\"\"\n",
    "        print(f'Running function {func.__name__}...')\n",
    "        output = func()\n",
    "        print(f'Function {func.__name__} finished...')\n",
    "        return output\n",
    "\n",
    "    return wrapper"
   ],
   "metadata": {
    "collapsed": false,
    "pycharm": {
     "name": "#%%\n"
    }
   }
  },
  {
   "cell_type": "code",
   "execution_count": 14,
   "outputs": [],
   "source": [
    "@add_comment\n",
    "def random_number() -> float:\n",
    "    \"\"\"Just returns a random number between 0 and 1\"\"\"\n",
    "    return random.random()"
   ],
   "metadata": {
    "collapsed": false,
    "pycharm": {
     "name": "#%%\n"
    }
   }
  },
  {
   "cell_type": "code",
   "execution_count": 15,
   "outputs": [
    {
     "name": "stdout",
     "output_type": "stream",
     "text": [
      "Running function random_number...\n",
      "Function random_number finished...\n"
     ]
    },
    {
     "data": {
      "text/plain": "0.7029362148237185"
     },
     "execution_count": 15,
     "metadata": {},
     "output_type": "execute_result"
    }
   ],
   "source": [
    "rm = random_number()\n",
    "rm"
   ],
   "metadata": {
    "collapsed": false,
    "pycharm": {
     "name": "#%%\n"
    }
   }
  },
  {
   "cell_type": "markdown",
   "source": [
    "## Decorator for a function that takes input parameters\n",
    "\n",
    "Let's take the above example of adding a comment. But now the passed function requires some input that has to be passed to it thorugh the decorator function. As we generally don't know how the parameters are called, we use `*args` and `**kwargs` for positional and optional parameters"
   ],
   "metadata": {
    "collapsed": false,
    "pycharm": {
     "name": "#%% md\n"
    }
   }
  },
  {
   "cell_type": "code",
   "execution_count": 16,
   "outputs": [],
   "source": [
    "def add_comment2(func: Callable):\n",
    "    \"\"\"Decorator function\"\"\"\n",
    "\n",
    "    def wrapper(*args, **kwargs):\n",
    "        \"\"\"wrapper around 'func'\"\"\"\n",
    "        print(f'Running function {func.__name__}...')\n",
    "        output = func(*args, **kwargs)\n",
    "        print(f'Function {func.__name__} finished...')\n",
    "        return output\n",
    "\n",
    "    return wrapper"
   ],
   "metadata": {
    "collapsed": false,
    "pycharm": {
     "name": "#%%\n"
    }
   }
  },
  {
   "cell_type": "code",
   "execution_count": 17,
   "outputs": [],
   "source": [
    "@add_comment2\n",
    "def random_number_with_argument(factor:float, offset: float=5.) -> float:\n",
    "    \"\"\"Just returns a random number between 0 and 1\"\"\"\n",
    "    return random.random()*factor+offset"
   ],
   "metadata": {
    "collapsed": false,
    "pycharm": {
     "name": "#%%\n"
    }
   }
  },
  {
   "cell_type": "code",
   "execution_count": 18,
   "outputs": [
    {
     "name": "stdout",
     "output_type": "stream",
     "text": [
      "Running function random_number_with_argument...\n",
      "Function random_number_with_argument finished...\n"
     ]
    },
    {
     "data": {
      "text/plain": "8.43377331272619"
     },
     "execution_count": 18,
     "metadata": {},
     "output_type": "execute_result"
    }
   ],
   "source": [
    "random_number_with_argument(10)"
   ],
   "metadata": {
    "collapsed": false,
    "pycharm": {
     "name": "#%%\n"
    }
   }
  },
  {
   "cell_type": "code",
   "execution_count": 18,
   "outputs": [],
   "source": [],
   "metadata": {
    "collapsed": false,
    "pycharm": {
     "name": "#%%\n"
    }
   }
  }
 ],
 "metadata": {
  "kernelspec": {
   "display_name": "Python 3",
   "language": "python",
   "name": "python3"
  },
  "language_info": {
   "codemirror_mode": {
    "name": "ipython",
    "version": 2
   },
   "file_extension": ".py",
   "mimetype": "text/x-python",
   "name": "python",
   "nbconvert_exporter": "python",
   "pygments_lexer": "ipython2",
   "version": "2.7.6"
  }
 },
 "nbformat": 4,
 "nbformat_minor": 0
}