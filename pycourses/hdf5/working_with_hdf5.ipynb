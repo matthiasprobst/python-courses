{
 "cells": [
  {
   "cell_type": "markdown",
   "id": "a264475e-8648-4919-8526-028434ad300d",
   "metadata": {},
   "source": [
    "# Working with HDF5 files\n",
    "\n",
    "This tutorial teaches what HDF5 is and can do and how we can work with it. It also provides useful python packages to improve working with HDF files."
   ]
  },
  {
   "cell_type": "markdown",
   "id": "4a39828f-8615-4335-bc46-473bd3f80164",
   "metadata": {},
   "source": [
    "# 1. What is HDF5?\n",
    "\n",
    "<image of HDF5 file structure>"
   ]
  },
  {
   "cell_type": "markdown",
   "id": "4a415823-ca3d-4f37-9344-a0ee4801d2c4",
   "metadata": {},
   "source": [
    "# 2. Basics: Python and HDF5\n",
    "\n",
    "The most basic and widely used package to access HDF5files is `h5py`. Let's import it:"
   ]
  },
  {
   "cell_type": "code",
   "execution_count": 1,
   "id": "e20b0045-1f3d-440e-a3c1-fa53b2e5b497",
   "metadata": {},
   "outputs": [],
   "source": [
    "import h5py\n",
    "import numpy as np"
   ]
  },
  {
   "cell_type": "markdown",
   "id": "ad8eb1c9-0d88-4d71-b6db-1a3e6a8f7613",
   "metadata": {},
   "source": [
    "## 2.1 File creation"
   ]
  },
  {
   "cell_type": "markdown",
   "id": "102f8666-be83-4079-8c1c-ec8e5bfd70ed",
   "metadata": {},
   "source": [
    "We create our first file by initializing a `File`-object with the parameters `filename` and `mode` (We open the file *writing*-mode (`mode='w'`, other modes are read-only `r` or read-and-write `r+`)):"
   ]
  },
  {
   "cell_type": "code",
   "execution_count": 2,
   "id": "ff33c8d3-5400-48f2-ac83-b4252b014477",
   "metadata": {},
   "outputs": [
    {
     "name": "stdout",
     "output_type": "stream",
     "text": [
      "<HDF5 file \"first_file.hdf\" (mode r+)>\n"
     ]
    }
   ],
   "source": [
    "h5 = h5py.File('first_file.hdf', mode='w')\n",
    "print(h5)\n",
    "h5.close()"
   ]
  },
  {
   "cell_type": "markdown",
   "id": "1d83b4c4-4ff9-4a0c-a902-56ac08576733",
   "metadata": {},
   "source": [
    "There's another way to create/open a file, which we should use in future. In the above example we needed to close the file. If we forget this, the file might get \"corrupt\" in some cases. To avoid this, best is to handle it in the following way:"
   ]
  },
  {
   "cell_type": "code",
   "execution_count": 3,
   "id": "0efc9d3f-e682-4e0e-9fa8-3b09e295ce2f",
   "metadata": {},
   "outputs": [
    {
     "name": "stdout",
     "output_type": "stream",
     "text": [
      "<HDF5 file \"first_file.hdf\" (mode r)>\n"
     ]
    }
   ],
   "source": [
    "with h5py.File('first_file.hdf', mode='r') as h5:\n",
    "    print(h5)"
   ]
  },
  {
   "cell_type": "markdown",
   "id": "a3050ab6-8f62-4778-94fc-f03ec18a16f5",
   "metadata": {},
   "source": [
    "## 2.2 Dataset creation"
   ]
  },
  {
   "cell_type": "code",
   "execution_count": 4,
   "id": "51924413-710a-49dc-b81d-6951ec07a081",
   "metadata": {},
   "outputs": [],
   "source": [
    "with h5py.File('first_file.hdf', mode='r+') as h5:\n",
    "    h5.create_dataset('first_ds', data=np.random.random((20, 30)))"
   ]
  },
  {
   "cell_type": "markdown",
   "id": "2952f591-f440-42bc-af6c-9114bcac0a53",
   "metadata": {},
   "source": [
    "# X. Exploring HDF5 files within notebook graphically\n",
    "\n",
    "https://github.com/silx-kit/jupyterlab-h5web"
   ]
  },
  {
   "cell_type": "code",
   "execution_count": 5,
   "id": "7caf2024-251e-43fa-bd0f-d76e3d341b1f",
   "metadata": {},
   "outputs": [
    {
     "data": {
      "application/x-hdf5": "C:\\Users\\da4323\\Documents\\programming\\GitHub\\python-courses\\pycourses\\hdf5\\first_file.hdf",
      "text/plain": [
       "<jupyterlab_h5web.widget.H5Web object>"
      ]
     },
     "execution_count": 5,
     "metadata": {},
     "output_type": "execute_result"
    }
   ],
   "source": [
    "from jupyterlab_h5web import H5Web\n",
    "\n",
    "H5Web('first_file.hdf')"
   ]
  },
  {
   "cell_type": "markdown",
   "id": "d61fcfe5-886a-43ee-a23f-e981b8154495",
   "metadata": {},
   "source": [
    "# X. Appendix\n",
    "\n",
    "The topics discussed here are a advanced.\n",
    "\n",
    "## X.1 Exporting a Notebook as presentation\n",
    "Want to show your results produced in a notebook to others without preparing presentation slides? Yes, this is possible!"
   ]
  },
  {
   "cell_type": "markdown",
   "id": "4c1c84ff-26b4-43d0-ae02-eda6fc75d057",
   "metadata": {},
   "source": [
    "## X.2 Working with HDF5 in a database/Quering HDF5 content"
   ]
  },
  {
   "cell_type": "code",
   "execution_count": null,
   "id": "381d882f-6a56-4b25-aa63-81c829f63041",
   "metadata": {},
   "outputs": [],
   "source": []
  }
 ],
 "metadata": {
  "kernelspec": {
   "display_name": "Python 3 (ipykernel)",
   "language": "python",
   "name": "python3"
  },
  "language_info": {
   "codemirror_mode": {
    "name": "ipython",
    "version": 3
   },
   "file_extension": ".py",
   "mimetype": "text/x-python",
   "name": "python",
   "nbconvert_exporter": "python",
   "pygments_lexer": "ipython3",
   "version": "3.8.13"
  }
 },
 "nbformat": 4,
 "nbformat_minor": 5
}
